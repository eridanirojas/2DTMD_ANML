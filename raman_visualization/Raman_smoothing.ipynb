{
 "cells": [
  {
   "cell_type": "code",
   "execution_count": 61,
   "id": "5bad8ff9-2c16-43df-9187-73397783090d",
   "metadata": {},
   "outputs": [],
   "source": [
    "import numpy as np\n",
    "from scipy.signal import savgol_filter"
   ]
  },
  {
   "cell_type": "code",
   "execution_count": 62,
   "id": "a346d0ba-2a37-44ef-92e5-5d73611eef90",
   "metadata": {},
   "outputs": [],
   "source": [
    "def SmoothRaman(file_path):\n",
    "    data = np.loadtxt(file_path)\n",
    "    raman_shift = data[:,0]\n",
    "    intensity = data[:,2] #change this value based on what plot you want to extract\n",
    "    intensity_smoothed = savgol_filter(intensity, window_length=11, polyorder=3) #adjust polyorder as needed\n",
    "    np.savetxt('smoothed_data.txt', np.column_stack((raman_shift, intensity_smoothed)), fmt='%.6f')\n",
    "    return raman_shift, intensity_smoothed, intensity"
   ]
  },
  {
   "cell_type": "code",
   "execution_count": 63,
   "id": "f1818113-48e4-4367-a398-f440a90e9d22",
   "metadata": {},
   "outputs": [
    {
     "data": {
      "text/plain": [
       "(array([1000.17, 1000.63, 1001.1 , ..., 2998.98, 2999.32, 2999.67]),\n",
       " array([23.39160839, 21.25874126, 20.80652681, ..., 26.70862471,\n",
       "        24.52447552, 21.61538462]),\n",
       " array([23., 22., 22., ..., 25., 27., 21.]))"
      ]
     },
     "execution_count": 63,
     "metadata": {},
     "output_type": "execute_result"
    }
   ],
   "source": [
    "file_path = \"path/to/file\"\n",
    "SmoothRaman(file_path)"
   ]
  }
 ],
 "metadata": {
  "kernelspec": {
   "display_name": "Python 3 (ipykernel)",
   "language": "python",
   "name": "python3"
  },
  "language_info": {
   "codemirror_mode": {
    "name": "ipython",
    "version": 3
   },
   "file_extension": ".py",
   "mimetype": "text/x-python",
   "name": "python",
   "nbconvert_exporter": "python",
   "pygments_lexer": "ipython3",
   "version": "3.12.2"
  }
 },
 "nbformat": 4,
 "nbformat_minor": 5
}

{
 "cells": [
  {
   "cell_type": "code",
   "execution_count": null,
   "id": "b6b8eb6a-00b6-4342-83aa-11571fc55a4f",
   "metadata": {},
   "outputs": [],
   "source": [
    "import numpy as np\n",
    "import matplotlib.pyplot as plt\n",
    "from scipy.signal import find_peaks"
   ]
  },
  {
   "cell_type": "code",
   "execution_count": null,
   "id": "6cf90c0a-90d7-4206-885e-07282e4d4e21",
   "metadata": {},
   "outputs": [],
   "source": [
    "def read_raman_data(file_path):\n",
    "    \"\"\"\n",
    "    Reads Raman data from a text file.\n",
    "\n",
    "    Args:\n",
    "    - file_path: Path to the text file containing Raman data.\n",
    "\n",
    "    Returns:\n",
    "    - raman_shift: Array containing Raman shift values.\n",
    "    - intensity: Array containing corresponding intensity values.\n",
    "    \"\"\"\n",
    "    data = np.loadtxt(file_path)\n",
    "    raman_shift = data[:, 0]\n",
    "    intensity = data[:, 1]\n",
    "    peak_threshold = np.average(intensity) + 10\n",
    "    return raman_shift, intensity, peak_threshold"
   ]
  },
  {
   "cell_type": "code",
   "execution_count": null,
   "id": "46094836-ab34-4721-b407-99dd6e03daf3",
   "metadata": {},
   "outputs": [],
   "source": [
    "def plot_raman_spectrum(raman_shift, intensity, peaks=None):\n",
    "    \"\"\"\n",
    "    Plots the Raman spectrum.\n",
    "\n",
    "    Args:\n",
    "    - raman_shift: Array containing Raman shift values.\n",
    "    - intensity: Array containing corresponding intensity values.\n",
    "    - peaks: Dictionary containing peaks data, if available.\n",
    "    \"\"\"\n",
    "    plt.figure(figsize=(10, 6))\n",
    "    plt.plot(raman_shift, intensity, color='b', label='Raman Spectrum')\n",
    "\n",
    "    if peaks:\n",
    "        peak_indices = peaks['peak_indices']\n",
    "        peak_values = peaks['peak_values']\n",
    "        plt.scatter(raman_shift[peak_indices], intensity[peak_indices], color='r', marker='o', label='Peaks')\n",
    "        for i, (shift, value) in enumerate(zip(raman_shift[peak_indices], peak_values)):\n",
    "            plt.text(shift, value + 10, f'Peak {i+1}', ha='center', va='bottom', color='r')\n",
    "\n",
    "    plt.xlabel('Raman Shift (cm^-1)')\n",
    "    plt.ylabel('Intensity')\n",
    "    plt.title('Material') #For whatever material you're working with\n",
    "    plt.legend()\n",
    "    plt.grid(True)\n",
    "    plt.show()"
   ]
  },
  {
   "cell_type": "code",
   "execution_count": null,
   "id": "95b9e5a0-24d0-42b7-a14e-9d5ec2f0380e",
   "metadata": {},
   "outputs": [],
   "source": [
    "def identify_peaks(raman_shift, intensity, threshold, distance):\n",
    "    \"\"\"\n",
    "    Identifies peaks in the Raman spectrum using scipy's find_peaks function.\n",
    "\n",
    "    Args:\n",
    "    - raman_shift: Array containing Raman shift values.\n",
    "    - intensity: Array containing corresponding intensity values.\n",
    "    - threshold: Minimum intensity required to be considered as a peak.\n",
    "    - distance: Minimum distance between peaks (in terms of array indices).\n",
    "\n",
    "    Returns:\n",
    "    - peaks: Dictionary containing peak indices and values.\n",
    "    \"\"\"\n",
    "    peaks, _ = find_peaks(intensity, height=threshold, distance=distance)\n",
    "    peak_values = intensity[peaks]\n",
    "    return {'peak_indices': peaks, 'peak_values': peak_values}"
   ]
  },
  {
   "cell_type": "code",
   "execution_count": null,
   "id": "fa4bb455-2f39-4050-b8ac-443c5863f2b0",
   "metadata": {
    "scrolled": true
   },
   "outputs": [],
   "source": [
    "if __name__ == \"__main__\":\n",
    "    file_path = \"path/to/file\"  # Change this to your Raman data file path\n",
    "    raman_shift, intensity, peak_threshold = read_raman_data(file_path)\n",
    "    peaks = identify_peaks(raman_shift, intensity, threshold=peak_threshold, distance=55)  # Adjust threshold and distance as needed\n",
    "    plot_raman_spectrum(raman_shift, intensity, peaks)"
   ]
  }
 ],
 "metadata": {
  "kernelspec": {
   "display_name": "Python 3 (ipykernel)",
   "language": "python",
   "name": "python3"
  },
  "language_info": {
   "codemirror_mode": {
    "name": "ipython",
    "version": 3
   },
   "file_extension": ".py",
   "mimetype": "text/x-python",
   "name": "python",
   "nbconvert_exporter": "python",
   "pygments_lexer": "ipython3",
   "version": "3.12.2"
  }
 },
 "nbformat": 4,
 "nbformat_minor": 5
}

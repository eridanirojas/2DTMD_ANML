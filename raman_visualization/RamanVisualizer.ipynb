{
 "cells": [
  {
   "cell_type": "code",
   "execution_count": null,
   "id": "b6b8eb6a-00b6-4342-83aa-11571fc55a4f",
   "metadata": {},
   "outputs": [],
   "source": [
    "import numpy as np\n",
    "import matplotlib.pyplot as plt\n",
    "from scipy.signal import find_peaks\n",
    "from scipy.signal import peak_widths\n",
    "%matplotlib inline"
   ]
  },
  {
   "cell_type": "code",
   "execution_count": null,
   "id": "6cf90c0a-90d7-4206-885e-07282e4d4e21",
   "metadata": {},
   "outputs": [],
   "source": [
    "def read_raman_data(file_path):\n",
    "    \"\"\"\n",
    "    Reads Raman data from a text file.\n",
    "\n",
    "    Inputs:\n",
    "    - file_path: Path to the text file containing Raman data.\n",
    "\n",
    "    Returns:\n",
    "    - raman_shift: Array containing Raman shift values.\n",
    "    - intensity: Array containing respective intensity values.\n",
    "    - peak_threshold: Value calculated by average intensity added by some integer\n",
    "    \"\"\"\n",
    "    data = np.loadtxt(file_path)\n",
    "    raman_shift = data[:, 0]\n",
    "    intensity = data[:, 1]\n",
    "    peak_threshold = np.average(intensity) + 10\n",
    "    return raman_shift, intensity, peak_threshold"
   ]
  },
  {
   "cell_type": "code",
   "execution_count": null,
   "id": "46094836-ab34-4721-b407-99dd6e03daf3",
   "metadata": {},
   "outputs": [],
   "source": [
    "def plot_raman_spectrum(raman_shift, intensity, peaks=None):\n",
    "    \"\"\"\n",
    "    Plots the Raman spectrum.\n",
    "\n",
    "    Inputs:\n",
    "    - raman_shift: Array containing Raman shift values.\n",
    "    - intensity: Array containing Respective intensity values.\n",
    "    - peaks: Dictionary containing peaks data, if it exists.\n",
    "    \"\"\"\n",
    "    plt.figure(figsize=(11, 6))\n",
    "    plt.plot(raman_shift, intensity, color='red', label='Raman Spectrum')\n",
    "\n",
    "    if peaks:\n",
    "        peak_indices = peaks['peak_indices']\n",
    "        peak_values = peaks['peak_intensity']\n",
    "        top_two_peaks = peaks['top_two_peaks']\n",
    "        peak_ratio = peaks['peak_ratio']\n",
    "        widths = peaks['peak_widths']\n",
    "        peak_raman_shifts = peaks['peak_raman_shifts']\n",
    "        plt.scatter(raman_shift[peak_indices], intensity[peak_indices], color='blue', marker='o', label='Peaks')\n",
    "        for i, (shift, value) in enumerate(zip(raman_shift[peak_indices], peak_values)):\n",
    "            plt.text(shift + 20, value, f'Peak {i+1}', ha='center', va='bottom', color='blue')\n",
    "        for j in peak_raman_shifts:\n",
    "            plt.axvline(x=j, color='black', linestyle='--', linewidth=1, label='Peak at {}'.format(j))\n",
    "        plt.hlines(*widths[1:], color=\"green\")\n",
    "\n",
    "    plt.xlabel('Raman Shift (cm^-1)')\n",
    "    plt.ylabel('Intensity (a.u.)')\n",
    "    plt.title('Material') #For whatever material you're working with\n",
    "    plt.annotate(f\"Peak1/Peak2 ratio is {peak_ratio}\", xy=(300, np.mean(peak_values)), xytext=(200, np.mean(peak_values)))\n",
    "    plt.grid(True)\n",
    "    plt.show()"
   ]
  },
  {
   "cell_type": "code",
   "execution_count": null,
   "id": "95b9e5a0-24d0-42b7-a14e-9d5ec2f0380e",
   "metadata": {},
   "outputs": [],
   "source": [
    "def identify_peaks(raman_shift, intensity, threshold, distance):\n",
    "    \"\"\"\n",
    "    Identifies peaks in the Raman spectrum using scipy's find_peaks function.\n",
    "    Identifies peak widths in the Raman spectrum using scipy's peak_widths function. \n",
    "\n",
    "    Inputs:\n",
    "    - raman_shift: Array containing Raman shift values.\n",
    "    - intensity: Array containing corresponding intensity values.\n",
    "    - threshold: Minimum intensity required to be considered as a peak.\n",
    "    - distance: Minimum distance between peaks (in terms of array indices).\n",
    "\n",
    "    Returns:\n",
    "    - peaks: Dictionary containing peak indices, values, peak ratio, top two peaks, as well as raman shift locations of respective peaks.\n",
    "    \"\"\"\n",
    "    peaks, _ = find_peaks(intensity, height=threshold, distance=distance) \n",
    "    widths = peak_widths(intensity, peaks)  # fix how peak widths are calculated\n",
    "    peak_intensity = intensity[peaks]\n",
    "    peak_raman_shifts = raman_shift[peaks]\n",
    "    sorted_peaks = sorted(peak_intensity, reverse =True)\n",
    "    top_two_peaks = sorted_peaks[:2]\n",
    "    peak_ratio = top_two_peaks[1]/top_two_peaks[0]\n",
    "    return {'peak_indices': peaks, 'peak_intensity': peak_intensity, 'peak_ratio': peak_ratio, 'top_two_peaks': top_two_peaks, \n",
    "            'peak_raman_shifts': peak_raman_shifts, 'peak_widths': widths}"
   ]
  },
  {
   "cell_type": "code",
   "execution_count": null,
   "id": "fa4bb455-2f39-4050-b8ac-443c5863f2b0",
   "metadata": {},
   "outputs": [],
   "source": [
    "if __name__ == \"__main__\":\n",
    "    file_path = \"path/to/file\"  # Change this to your Raman data file path\n",
    "    raman_shift, intensity, peak_threshold = read_raman_data(file_path)\n",
    "    peaks = identify_peaks(raman_shift, intensity, threshold=peak_threshold, distance=55)  # Adjust threshold and distance as needed\n",
    "    plot_raman_spectrum(raman_shift, intensity, peaks)"
   ]
  },
  {
   "cell_type": "code",
   "execution_count": null,
   "id": "6de29eca-9d3b-45f3-821f-b89d9ff245b8",
   "metadata": {},
   "outputs": [],
   "source": [
    "peaks['peak_raman_shifts'] # these values actually tell you what the raman shift value is for each respective peak"
   ]
  },
  {
   "cell_type": "code",
   "execution_count": null,
   "id": "74562245-f793-4c67-b763-c61b1abf3cf3",
   "metadata": {},
   "outputs": [],
   "source": [
    "peaks['peak_indices'] # these values are extremely important because they highlight where the peaks are in our dataset"
   ]
  },
  {
   "cell_type": "code",
   "execution_count": null,
   "id": "6ae3ab6f-a91a-4a70-bf4f-5f21fb7e8edc",
   "metadata": {},
   "outputs": [],
   "source": [
    "peaks['peak_intensity'] # these values tell us where on the intensity axis the peaks are located"
   ]
  },
  {
   "cell_type": "code",
   "execution_count": null,
   "id": "d934b31a-5782-411d-9838-2ad7b3dd44c1",
   "metadata": {},
   "outputs": [],
   "source": [
    "peaks['peak_ratio'] # this value tells us the peak ratio from Peak1/Peak2"
   ]
  },
  {
   "cell_type": "code",
   "execution_count": null,
   "id": "2195df77-c796-452f-8851-668d729fad83",
   "metadata": {},
   "outputs": [],
   "source": [
    "peaks['peak_widths']"
   ]
  }
 ],
 "metadata": {
  "kernelspec": {
   "display_name": "Python 3 (ipykernel)",
   "language": "python",
   "name": "python3"
  },
  "language_info": {
   "codemirror_mode": {
    "name": "ipython",
    "version": 3
   },
   "file_extension": ".py",
   "mimetype": "text/x-python",
   "name": "python",
   "nbconvert_exporter": "python",
   "pygments_lexer": "ipython3",
   "version": "3.12.2"
  }
 },
 "nbformat": 4,
 "nbformat_minor": 5
}

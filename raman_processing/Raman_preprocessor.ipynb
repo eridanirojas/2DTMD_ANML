{
 "cells": [
  {
   "cell_type": "code",
   "execution_count": null,
   "id": "b6b8eb6a-00b6-4342-83aa-11571fc55a4f",
   "metadata": {},
   "outputs": [],
   "source": [
    "import numpy as np\n",
    "import math\n",
    "import matplotlib.pyplot as plt\n",
    "from scipy.signal import find_peaks\n",
    "from scipy.signal import peak_widths\n",
    "from scipy.interpolate import interp1d\n",
    "from scipy.optimize import curve_fit\n",
    "%matplotlib inline"
   ]
  },
  {
   "cell_type": "code",
   "execution_count": null,
   "id": "6cf90c0a-90d7-4206-885e-07282e4d4e21",
   "metadata": {},
   "outputs": [],
   "source": [
    "def read_raman_data(file_path):\n",
    "    \"\"\"\n",
    "    Reads Raman data from a text file.\n",
    "\n",
    "    Inputs:\n",
    "    - file_path: Path to the text file containing Raman data.\n",
    "\n",
    "    Returns:\n",
    "    - raman_shift: Array containing Raman shift values.\n",
    "    - intensity: Array containing respective intensity values.\n",
    "    - peak_threshold: Value calculated by average intensity added by some integer\n",
    "    \"\"\"\n",
    "    data = np.loadtxt(file_path)\n",
    "    raman_shift = data[:,0]\n",
    "    intensity = data[:,1] # for map txt files, change the integer to match the column of a plot you'd like to visualize\n",
    "    return raman_shift, intensity"
   ]
  },
  {
   "cell_type": "code",
   "execution_count": null,
   "id": "50500393-9c01-491c-a66b-ce6760f49ba1",
   "metadata": {},
   "outputs": [],
   "source": [
    "def index_to_xdata(xdata, indices):\n",
    "    \"interpolate the values from signal.peak_widths to proper raman_shift data\"\n",
    "    ind = np.arange(len(xdata))\n",
    "    f = interp1d(ind,xdata)\n",
    "    return f(indices)"
   ]
  },
  {
   "cell_type": "code",
   "execution_count": null,
   "id": "46094836-ab34-4721-b407-99dd6e03daf3",
   "metadata": {},
   "outputs": [],
   "source": [
    "def plot_raman_spectrum(raman_shift, intensity, peaks, labels, ratio_label = None):\n",
    "    \"\"\"\n",
    "    Plots the Raman spectrum, AND calculates integrals underneath peaks.\n",
    "\n",
    "    Inputs:\n",
    "    - raman_shift: Array containing Raman shift values.\n",
    "    - intensity: Array containing Respective intensity values.\n",
    "    - peaks: Dictionary containing peaks data, if it exists.\n",
    "    - labels: User created list containing labels, left to right, of expected peaks\n",
    "\n",
    "    Returns:\n",
    "    - integrals: Array containing peaks' respective integral values.\n",
    "    \n",
    "    \"\"\"\n",
    "    plt.figure(figsize=(11, 6)) #adjust figure size as needed\n",
    "    plt.plot(raman_shift, intensity, color='red') #change color as desired\n",
    "    \n",
    "    peak_values = peaks['peak_intensity']\n",
    "    if len(peak_values) != len(labels):\n",
    "        raise ValueError(f\"Length of labels list does not match amount of peaks present: {len(peak_values)}\")\n",
    "    peak_ratio = peaks['peak_ratio']\n",
    "    widths = peaks['peak_widths']\n",
    "    width_heights = peaks['width_heights']\n",
    "    left_ips = peaks['left_ips']\n",
    "    right_ips = peaks['right_ips']\n",
    "    peak_raman_shifts = peaks['peak_raman_shifts']\n",
    "    integrals = []\n",
    "    plt.scatter(peak_raman_shifts, peak_values, color='blue', marker='o')\n",
    "    for i, (shift, value, width, label, left_ip, right_ip) in enumerate(zip(peak_raman_shifts, peak_values, widths, labels, left_ips, right_ips)):\n",
    "        plt.text(shift + 100, value, label, ha='center', va='bottom', color='blue')\n",
    "        plt.text(shift + 100, value/2, f\"W:{math.ceil(width)}\", ha='center', va='bottom', color='black') #adjust shift and/or value as needed\n",
    "        plt.axvline(shift, color='black', linestyle='--', linewidth=1)\n",
    "        plt.text(shift- 100, value/40, f\"Sh:{math.ceil(shift)}\", ha='center', va='bottom', color='black')\n",
    "        plt.scatter(left_ip, value, color = 'orange', marker = 'v') # perhaps use this and the next lines in order to define bounds of integration\n",
    "        plt.scatter(right_ip, value, color = 'orange', marker = 'v')\n",
    "        plt.fill_between(raman_shift,intensity, 0, where=(raman_shift>=left_ip)&(raman_shift<=right_ip),color = 'blue', alpha = 0.25)\n",
    "        integral = np.trapz(intensity[(raman_shift >= left_ip) & (raman_shift <= right_ip)], \n",
    "                            raman_shift[(raman_shift >= left_ip) & (raman_shift <= right_ip)])\n",
    "        print(left_ip, right_ip)\n",
    "        if integral not in integrals:\n",
    "            integrals.append(integral)\n",
    "        else:\n",
    "            raise ValueError(\"integral exists in integrals already\")\n",
    "            \n",
    "    plt.hlines(width_heights, left_ips, right_ips, color='g')\n",
    "    if peak_ratio:\n",
    "        plt.annotate(f\"{ratio_label} ratio is {peak_ratio}\", xy=(1900, np.mean(peak_values)), xytext=(1700, np.mean(peak_values))) #adjust xy and xytext as needed\n",
    "    plt.ylim(0, max(intensity)+50)\n",
    "    plt.xlim(min(raman_shift), max(raman_shift))    \n",
    "    plt.xlabel('Raman Shift (cm^-1)')\n",
    "    plt.ylabel('Intensity (a.u.)')\n",
    "    plt.title(\"Material\") #For whatever material you're working with\n",
    "    plt.grid(True)\n",
    "    plt.show()\n",
    "    return integrals"
   ]
  },
  {
   "cell_type": "code",
   "execution_count": null,
   "id": "95b9e5a0-24d0-42b7-a14e-9d5ec2f0380e",
   "metadata": {},
   "outputs": [],
   "source": [
    "def identify_peaks(raman_shift, intensity, desired_ratio, threshold, distance, fwhm):\n",
    "    \"\"\"\n",
    "    Identifies peaks in the Raman spectrum using scipy's find_peaks function.\n",
    "    Identifies peak widths in the Raman spectrum using scipy's peak_widths function. \n",
    "\n",
    "    Inputs:\n",
    "    - raman_shift: Array containing Raman shift values.\n",
    "    - intensity: Array containing corresponding intensity values.\n",
    "    - threshold: Minimum intensity required to be considered as a peak.\n",
    "    - distance: Minimum distance between peaks (in terms of array indices).\n",
    "\n",
    "    Returns:\n",
    "    - peaks: Dictionary containing peak indices, values, peak ratio, raman shift peak locations, width values per peak, width heights,\n",
    "             and raman shift locations for widths\n",
    "    \"\"\"\n",
    "    peaks, _ = find_peaks(intensity, height=threshold, distance=distance) \n",
    "    widths, width_heights, left_ips, right_ips = peak_widths(intensity, peaks, rel_height = fwhm) #adjust rel_height to find peak width at specific y vals \n",
    "    left_ips = index_to_xdata(raman_shift, left_ips) \n",
    "    right_ips = index_to_xdata(raman_shift, right_ips) \n",
    "    peak_intensity = intensity[peaks]\n",
    "    peak_raman_shifts = raman_shift[peaks]\n",
    "    if len(peaks) == 0:\n",
    "        raise ValueError(\"Your input for peak_threshold was not able to locate any peaks. Please adjust.\")\n",
    "    if (len(peaks) >= 2) and ((2 and 1) in desired_ratio):\n",
    "        if len(desired_ratio) != len(peaks):\n",
    "            raise ValueError(f\"There are {len(peaks)} peaks and you put in {len(desired_ratio)} indices in desired_ratio\")\n",
    "        large = None\n",
    "        small = None\n",
    "        for i, j in enumerate(desired_ratio):\n",
    "            if j == 2:\n",
    "                large = peak_intensity[i]\n",
    "            elif j == 1:\n",
    "                small = peak_intensity[i]\n",
    "            else:\n",
    "                pass\n",
    "        peak_ratio = large/small\n",
    "    else:\n",
    "        peak_ratio = None\n",
    "    return {'peak_indices': peaks, 'peak_intensity': peak_intensity, 'peak_ratio': peak_ratio, \n",
    "            'peak_raman_shifts': peak_raman_shifts, 'peak_widths': widths, 'width_heights': width_heights, 'left_ips': left_ips,\n",
    "            'right_ips': right_ips}"
   ]
  },
  {
   "cell_type": "code",
   "execution_count": null,
   "id": "f95b4340-4708-46f7-95a3-23ecc01f5f4d",
   "metadata": {},
   "outputs": [],
   "source": [
    "def peak_integral_ratio(desired_ratio, integrals):\n",
    "    \"\"\"\n",
    "    Calculates desired peak integral ratio. \n",
    "\n",
    "    Inputs:\n",
    "    - desired_ratio: Array containing user inputted integers ranging from 0-2.\n",
    "    - integrals: Array containing peaks' corresponding integral values.\n",
    "\n",
    "    Returns:\n",
    "    - integral_ratio: Ratio between selected peak integrals.\n",
    "    \"\"\"\n",
    "    if len(desired_ratio) != len(integrals):\n",
    "        raise ValueError(f\"There are {len(integrals)} integrals and you put in {len(desired_ratio)} indices in desired_ratio\")\n",
    "    large = None\n",
    "    small = None\n",
    "    for i, j in enumerate(desired_ratio):\n",
    "        if j == 2:\n",
    "            large = integrals[i]\n",
    "        elif j == 1:\n",
    "            small = integrals[i]\n",
    "        else:\n",
    "            pass\n",
    "    integral_ratio = large/small\n",
    "    return integral_ratio"
   ]
  },
  {
   "cell_type": "code",
   "execution_count": null,
   "id": "2a7d90ed-d671-4b83-8072-574781a4cb7b",
   "metadata": {},
   "outputs": [],
   "source": [
    "def RatioLabeller(labels, desired_ratio):\n",
    "    \"\"\"\n",
    "    Labels calculated ratio. \n",
    "\n",
    "    Inputs:\n",
    "    - labels: Array containing user inputted strings. \n",
    "    - desired_ratio: Array containing user inputted integers ranging from 0-2.\n",
    "\n",
    "    Returns:\n",
    "    - ratio_label: Label of ratio found from labels and desired ratio.\n",
    "    \"\"\"\n",
    "    top = None\n",
    "    bottom = None\n",
    "    for i, j in enumerate(desired_ratio):\n",
    "        if j == 2:\n",
    "            top = labels[i]\n",
    "        elif j == 1:\n",
    "            bottom = labels[i]\n",
    "        else:\n",
    "            pass\n",
    "    ratio_label = f\"{top}/{bottom}\"\n",
    "    return ratio_label"
   ]
  },
  {
   "cell_type": "code",
   "execution_count": null,
   "id": "fa4bb455-2f39-4050-b8ac-443c5863f2b0",
   "metadata": {},
   "outputs": [],
   "source": [
    "file_path = \"path/to/file\"  # Change this to your Raman data file path\n",
    "labels = ['1st', '2nd', '3rd']\n",
    "desired_ratio = [2,1,0] # Input 2 for peak desired for numerator, and 1 for the peak desired in the denominator\n",
    "ratio_label = RatioLabeller(labels, desired_ratio)\n",
    "raman_shift, intensity = read_raman_data(file_path) \n",
    "peaks = identify_peaks(raman_shift, intensity, desired_ratio, threshold=100, distance=110, fwhm = 0.5)  # Adjust threshold and distance as needed\n",
    "integrals = plot_raman_spectrum(raman_shift, intensity, peaks, labels, ratio_label)\n",
    "value = peak_integral_ratio(desired_ratio, integrals)\n",
    "print(f\"Integral ratio for {ratio_label} is {value}\")"
   ]
  },
  {
   "cell_type": "code",
   "execution_count": null,
   "id": "6de29eca-9d3b-45f3-821f-b89d9ff245b8",
   "metadata": {},
   "outputs": [],
   "source": [
    "peaks['peak_raman_shifts'] # these values actually tell you what the raman shift value is for each respective peak"
   ]
  },
  {
   "cell_type": "code",
   "execution_count": null,
   "id": "74562245-f793-4c67-b763-c61b1abf3cf3",
   "metadata": {},
   "outputs": [],
   "source": [
    "peaks['peak_indices'] # these values are extremely important because they highlight where the peaks are in our dataset"
   ]
  },
  {
   "cell_type": "code",
   "execution_count": null,
   "id": "6ae3ab6f-a91a-4a70-bf4f-5f21fb7e8edc",
   "metadata": {},
   "outputs": [],
   "source": [
    "peaks['peak_intensity'] # these values tell us where on the intensity axis the peaks are located"
   ]
  },
  {
   "cell_type": "code",
   "execution_count": null,
   "id": "d934b31a-5782-411d-9838-2ad7b3dd44c1",
   "metadata": {},
   "outputs": [],
   "source": [
    "peaks['peak_ratio'] # this value tells us the peak ratio from Peak1/Peak2"
   ]
  },
  {
   "cell_type": "code",
   "execution_count": null,
   "id": "2195df77-c796-452f-8851-668d729fad83",
   "metadata": {},
   "outputs": [],
   "source": [
    "peaks['peak_widths'] # this list tells us the width values for each peak in the plot, left to right"
   ]
  },
  {
   "cell_type": "code",
   "execution_count": null,
   "id": "8b3fd668-b43d-498b-b053-cd761cd7ef37",
   "metadata": {},
   "outputs": [],
   "source": [
    "integrals # list of integrals, left to right"
   ]
  }
 ],
 "metadata": {
  "kernelspec": {
   "display_name": "Python 3 (ipykernel)",
   "language": "python",
   "name": "python3"
  },
  "language_info": {
   "codemirror_mode": {
    "name": "ipython",
    "version": 3
   },
   "file_extension": ".py",
   "mimetype": "text/x-python",
   "name": "python",
   "nbconvert_exporter": "python",
   "pygments_lexer": "ipython3",
   "version": "3.12.2"
  }
 },
 "nbformat": 4,
 "nbformat_minor": 5
}

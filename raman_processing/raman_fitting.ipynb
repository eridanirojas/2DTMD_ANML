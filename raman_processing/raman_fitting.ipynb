{
 "cells": [
  {
   "cell_type": "code",
   "execution_count": null,
   "id": "3b247ce2-4afd-41a9-8646-6504615eda9a",
   "metadata": {},
   "outputs": [],
   "source": [
    "import numpy as np\n",
    "import matplotlib.pyplot as plt\n",
    "from lmfit import Parameters, Minimizer\n",
    "from lmfit.models import LorentzianModel, ConstantModel"
   ]
  },
  {
   "cell_type": "code",
   "execution_count": null,
   "id": "6dff4b14-ce06-45d4-bee3-cefe9baa0e2b",
   "metadata": {},
   "outputs": [],
   "source": [
    "data=np.genfromtxt('df.csv', delimiter = \",\")\n",
    "x=data[:,0]\n",
    "y=data[:,1]"
   ]
  },
  {
   "cell_type": "code",
   "execution_count": null,
   "id": "6e6d470e-dff7-441a-9ffd-7eacccea2816",
   "metadata": {},
   "outputs": [],
   "source": [
    "plt.plot(x,y)"
   ]
  },
  {
   "cell_type": "code",
   "execution_count": null,
   "id": "10504eb8-aa2b-4b4f-8215-17f0ecc459c8",
   "metadata": {},
   "outputs": [],
   "source": [
    "#limit the data between 2500 to 2800\n",
    "min = 2500\n",
    "max = 2800\n",
    "rs=x[abs(x-min).argmin():abs(x-max).argmin()]\n",
    "intensity=y[abs(x-min).argmin():abs(x-max).argmin()]"
   ]
  },
  {
   "cell_type": "code",
   "execution_count": null,
   "id": "24486c2f-c0d7-4659-8a0a-790a4ae05140",
   "metadata": {},
   "outputs": [],
   "source": [
    "plt.plot(rs,intensity)"
   ]
  },
  {
   "cell_type": "code",
   "execution_count": null,
   "id": "cb831f4d-e0e7-471a-9dee-3e6532aabde4",
   "metadata": {},
   "outputs": [],
   "source": [
    "#use a constant as the background\n",
    "model=ConstantModel()\n",
    "params=model.make_params()\n",
    "params['c'].set(15,min=0, max=25)\n",
    "\n",
    "#the data will fit with 4 Lorentizian\n",
    "l1=LorentzianModel(prefix='l1_')\n",
    "l2=LorentzianModel(prefix='l2_')\n",
    "l3=LorentzianModel(prefix='l3_')\n",
    "l4=LorentzianModel(prefix='l4_')\n",
    "\n",
    "# make some guess\n",
    "#This is important for the fit to converge\n",
    "p1=l1.make_params()\n",
    "p1['l1_center'].set(2640,min=min, max=max) #maybe use some deviation off shift_values from Raman_preprocessor.ipynb for these guesses\n",
    "p1['l1_amplitude'].set(100,min=0) #the set value is estimated intensity value, obviously going to be smaller for shoulders of peaks\n",
    "\n",
    "p2=l2.make_params()\n",
    "p2['l2_center'].set(2680,min=min, max=max)\n",
    "p2['l2_amplitude'].set(400,min=0)\n",
    "\n",
    "p3=l3.make_params()\n",
    "p3['l3_center'].set(2700,min=min, max=max)\n",
    "p3['l3_amplitude'].set(400,min=0)\n",
    "\n",
    "p4=l4.make_params()\n",
    "p4['l4_center'].set(2720,min=min, max=max)\n",
    "p4['l4_amplitude'].set(100,min=0)"
   ]
  },
  {
   "cell_type": "code",
   "execution_count": null,
   "id": "0494435b-dae2-409f-8123-9b06949daa68",
   "metadata": {},
   "outputs": [],
   "source": [
    "model=model+l1+l2+l3+l4\n",
    "params.update(p1)\n",
    "params.update(p2)\n",
    "params.update(p3)\n",
    "params.update(p4)"
   ]
  },
  {
   "cell_type": "code",
   "execution_count": null,
   "id": "1d533be2-ec9f-4f06-bc18-9bec73318b71",
   "metadata": {},
   "outputs": [],
   "source": [
    "# lets try this initial guess\n",
    "init=model.eval(params=params,x=rs)\n",
    "plt.plot(rs,intensity)\n",
    "plt.plot(rs,init)"
   ]
  },
  {
   "cell_type": "code",
   "execution_count": null,
   "id": "9694e5db-793f-4866-90fb-26341c3af5e8",
   "metadata": {},
   "outputs": [],
   "source": [
    "# lets do the fit\n",
    "result=model.fit(data=intensity,params=params,x=rs)\n",
    "comps=result.eval_components()"
   ]
  },
  {
   "cell_type": "code",
   "execution_count": null,
   "id": "3045ee16-6341-4694-8850-d5adc1c982e4",
   "metadata": {},
   "outputs": [],
   "source": [
    "plt.plot(rs,intensity, label='data')\n",
    "plt.plot(rs, result.best_fit, label='best fit')\n",
    "plt.legend()"
   ]
  },
  {
   "cell_type": "markdown",
   "id": "8d098de6-c83c-44a7-a29c-a0faba9e9fd3",
   "metadata": {},
   "source": [
    "**Credit to Dr Manab on youtube.com**"
   ]
  },
  {
   "cell_type": "code",
   "execution_count": null,
   "id": "cdc5c29b-38e0-4fe1-affc-09291ca302e5",
   "metadata": {},
   "outputs": [],
   "source": []
  }
 ],
 "metadata": {
  "kernelspec": {
   "display_name": "Python 3 (ipykernel)",
   "language": "python",
   "name": "python3"
  },
  "language_info": {
   "codemirror_mode": {
    "name": "ipython",
    "version": 3
   },
   "file_extension": ".py",
   "mimetype": "text/x-python",
   "name": "python",
   "nbconvert_exporter": "python",
   "pygments_lexer": "ipython3",
   "version": "3.12.2"
  }
 },
 "nbformat": 4,
 "nbformat_minor": 5
}

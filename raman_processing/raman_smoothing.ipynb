{
 "cells": [
  {
   "cell_type": "code",
   "execution_count": null,
   "id": "7463ae4b-f2b7-4ff5-8369-8e615a0b4dd9",
   "metadata": {},
   "outputs": [],
   "source": [
    "import numpy as np\n",
    "from scipy.signal import savgol_filter"
   ]
  },
  {
   "cell_type": "code",
   "execution_count": null,
   "id": "b5116cb2-592a-4a91-a249-9ee05f5015f2",
   "metadata": {},
   "outputs": [],
   "source": [
    "def SmoothRaman(file_path):\n",
    "    data = np.loadtxt(file_path)\n",
    "    raman_shift = data[:,0]\n",
    "    intensity = data[:,2] #change this value based on what plot you want to extract\n",
    "    intensity_smoothed = savgol_filter(intensity, window_length=11, polyorder=3) #adjust polyorder as needed\n",
    "    np.savetxt('smoothed_data.txt', np.column_stack((raman_shift, intensity_smoothed)), fmt='%.6f')\n",
    "    return raman_shift, intensity_smoothed, intensity"
   ]
  },
  {
   "cell_type": "code",
   "execution_count": null,
   "id": "3c02f4e6-416d-4c4d-8488-d0494f9a2f89",
   "metadata": {},
   "outputs": [],
   "source": [
    "file_path = \"path/to/file\"\n",
    "SmoothRaman(file_path)"
   ]
  }
 ],
 "metadata": {
  "kernelspec": {
   "display_name": "Python 3 (ipykernel)",
   "language": "python",
   "name": "python3"
  },
  "language_info": {
   "codemirror_mode": {
    "name": "ipython",
    "version": 3
   },
   "file_extension": ".py",
   "mimetype": "text/x-python",
   "name": "python",
   "nbconvert_exporter": "python",
   "pygments_lexer": "ipython3",
   "version": "3.12.2"
  }
 },
 "nbformat": 4,
 "nbformat_minor": 5
}

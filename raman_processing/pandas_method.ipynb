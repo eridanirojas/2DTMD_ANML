{
 "cells": [
  {
   "cell_type": "code",
   "execution_count": null,
   "id": "c711eb10-0a0a-4be3-8f1e-88fb7655911c",
   "metadata": {},
   "outputs": [],
   "source": [
    "import numpy as np\n",
    "from scipy.signal import find_peaks, peak_widths\n",
    "import pandas as pd"
   ]
  },
  {
   "cell_type": "code",
   "execution_count": null,
   "id": "fa8a492a-6f5a-40f9-80ce-61fdc85a8046",
   "metadata": {},
   "outputs": [],
   "source": [
    "df = pd.read_csv('path/to/file', delimiter = \"\\t\")"
   ]
  },
  {
   "cell_type": "code",
   "execution_count": null,
   "id": "5ec339c3-4c19-4195-85f6-d9516a66f759",
   "metadata": {},
   "outputs": [],
   "source": [
    "df = df.iloc[1:]\n",
    "df.reset_index(drop=True, inplace=True)"
   ]
  },
  {
   "cell_type": "code",
   "execution_count": null,
   "id": "7869a4ce-3217-491f-b8cf-c962c0955562",
   "metadata": {},
   "outputs": [],
   "source": [
    "df.to_csv('df.csv', sep=',', index=False, encoding='utf-8')"
   ]
  },
  {
   "cell_type": "code",
   "execution_count": null,
   "id": "3843d385-972a-4f7a-9a79-7c505b79d3d9",
   "metadata": {},
   "outputs": [],
   "source": [
    "df"
   ]
  }
 ],
 "metadata": {
  "kernelspec": {
   "display_name": "Python 3 (ipykernel)",
   "language": "python",
   "name": "python3"
  },
  "language_info": {
   "codemirror_mode": {
    "name": "ipython",
    "version": 3
   },
   "file_extension": ".py",
   "mimetype": "text/x-python",
   "name": "python",
   "nbconvert_exporter": "python",
   "pygments_lexer": "ipython3",
   "version": "3.12.2"
  }
 },
 "nbformat": 4,
 "nbformat_minor": 5
}

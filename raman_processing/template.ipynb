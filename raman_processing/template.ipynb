{
 "cells": [
  {
   "cell_type": "code",
   "execution_count": null,
   "id": "b9984844-921c-4668-b332-a36d4dd18967",
   "metadata": {},
   "outputs": [],
   "source": [
    "mtl_name_532nm = {\n",
    "        \"Peaks\": ,\n",
    "        \"Peak labels\": ,\n",
    "        \"Target Ratio\": ,\n",
    "        \"Intensity Ratio\": ,\n",
    "        \"Integral Ratio\": ,\n",
    "        \"Peak distances\": ,\n",
    "        \"Widths\": }"
   ]
  }
 ],
 "metadata": {
  "kernelspec": {
   "display_name": "Python 3 (ipykernel)",
   "language": "python",
   "name": "python3"
  },
  "language_info": {
   "codemirror_mode": {
    "name": "ipython",
    "version": 3
   },
   "file_extension": ".py",
   "mimetype": "text/x-python",
   "name": "python",
   "nbconvert_exporter": "python",
   "pygments_lexer": "ipython3",
   "version": "3.12.4"
  }
 },
 "nbformat": 4,
 "nbformat_minor": 5
}

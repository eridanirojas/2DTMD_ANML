{
 "cells": [
  {
   "cell_type": "code",
   "execution_count": 1,
   "id": "f2f4d1ab-1972-4ac6-a803-7508907969de",
   "metadata": {},
   "outputs": [],
   "source": [
    "import processing as pro\n",
    "import fitting as fit\n",
    "import visualize as vis\n",
    "import peaks as pks"
   ]
  },
  {
   "cell_type": "code",
   "execution_count": 2,
   "id": "a9bdd3e2-df5e-4148-bb1a-a47ffc07e0e5",
   "metadata": {},
   "outputs": [],
   "source": [
    "file_path = \"../Raman/BP_533nm_map.txt\"  # Change this to your Raman data file path"
   ]
  },
  {
   "cell_type": "code",
   "execution_count": null,
   "id": "2db61598-1cb0-4718-bc02-4fbaa94d1486",
   "metadata": {},
   "outputs": [],
   "source": [
    "raman_shift, intensity, df, yx = pro.read_raman_data(file_path, col_num = 1, map = True, csv = False) "
   ]
  },
  {
   "cell_type": "code",
   "execution_count": null,
   "id": "177fcb4d-d48f-401b-be90-c1fa0814727b",
   "metadata": {},
   "outputs": [],
   "source": []
  }
 ],
 "metadata": {
  "kernelspec": {
   "display_name": "Python 3 (ipykernel)",
   "language": "python",
   "name": "python3"
  },
  "language_info": {
   "codemirror_mode": {
    "name": "ipython",
    "version": 3
   },
   "file_extension": ".py",
   "mimetype": "text/x-python",
   "name": "python",
   "nbconvert_exporter": "python",
   "pygments_lexer": "ipython3",
   "version": "3.12.4"
  }
 },
 "nbformat": 4,
 "nbformat_minor": 5
}
